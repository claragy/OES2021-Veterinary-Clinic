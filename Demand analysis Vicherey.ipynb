{
 "cells": [
  {
   "cell_type": "markdown",
   "metadata": {},
   "source": [
    "# Vicherey "
   ]
  },
  {
   "cell_type": "code",
   "execution_count": 163,
   "metadata": {
    "scrolled": true
   },
   "outputs": [],
   "source": [
    "import numpy as np\n",
    "import pandas as pd\n",
    "import seaborn as sns\n",
    "import matplotlib.pyplot as plt\n",
    "\n",
    "sales_2021 = pd.read_csv('V_Ventes produits par jour 2021.csv', sep=\";\", encoding='latin-1')\n",
    "sales_2020 = pd.read_csv('V_Ventes produits par jour 2020.csv', sep=\";\", encoding='latin-1')\n",
    "sales_2019 = pd.read_csv('V_Ventes produits par jour 2019.csv', sep=\";\", encoding='latin-1')\n",
    "\n",
    "sales = sales_2020.merge(sales_2021, how='outer', on = ['Date facture','Désignation','Qté'])[['Date facture',\n",
    "                                                                                              'Désignation','Qté']]"
   ]
  },
  {
   "cell_type": "code",
   "execution_count": 164,
   "metadata": {},
   "outputs": [],
   "source": [
    "sales['Date'] = pd.to_datetime(sales['Date facture'], dayfirst=True)\n",
    "sales = sales.drop('Date facture', axis=1)"
   ]
  },
  {
   "cell_type": "code",
   "execution_count": 165,
   "metadata": {
    "scrolled": false
   },
   "outputs": [
    {
     "data": {
      "text/html": [
       "<div>\n",
       "<style scoped>\n",
       "    .dataframe tbody tr th:only-of-type {\n",
       "        vertical-align: middle;\n",
       "    }\n",
       "\n",
       "    .dataframe tbody tr th {\n",
       "        vertical-align: top;\n",
       "    }\n",
       "\n",
       "    .dataframe thead th {\n",
       "        text-align: right;\n",
       "    }\n",
       "</style>\n",
       "<table border=\"1\" class=\"dataframe\">\n",
       "  <thead>\n",
       "    <tr style=\"text-align: right;\">\n",
       "      <th></th>\n",
       "      <th>Name</th>\n",
       "      <th>Quantity</th>\n",
       "      <th>Date</th>\n",
       "    </tr>\n",
       "  </thead>\n",
       "  <tbody>\n",
       "    <tr>\n",
       "      <th>0</th>\n",
       "      <td>ALUSPRAY BOMBE</td>\n",
       "      <td>1</td>\n",
       "      <td>2020-01-02</td>\n",
       "    </tr>\n",
       "    <tr>\n",
       "      <th>1</th>\n",
       "      <td>VETRIGEN</td>\n",
       "      <td>1</td>\n",
       "      <td>2020-01-02</td>\n",
       "    </tr>\n",
       "    <tr>\n",
       "      <th>2</th>\n",
       "      <td>BIOVEINE GLU CA+</td>\n",
       "      <td>4</td>\n",
       "      <td>2020-01-02</td>\n",
       "    </tr>\n",
       "    <tr>\n",
       "      <th>3</th>\n",
       "      <td>BOVIFERM PLUS</td>\n",
       "      <td>1</td>\n",
       "      <td>2020-01-02</td>\n",
       "    </tr>\n",
       "    <tr>\n",
       "      <th>4</th>\n",
       "      <td>CANDILAT VEAUX 20 ML</td>\n",
       "      <td>2</td>\n",
       "      <td>2020-01-02</td>\n",
       "    </tr>\n",
       "    <tr>\n",
       "      <th>...</th>\n",
       "      <td>...</td>\n",
       "      <td>...</td>\n",
       "      <td>...</td>\n",
       "    </tr>\n",
       "    <tr>\n",
       "      <th>16346</th>\n",
       "      <td>DEXALONE SOLUTION 1ML</td>\n",
       "      <td>3</td>\n",
       "      <td>2021-11-22</td>\n",
       "    </tr>\n",
       "    <tr>\n",
       "      <th>16347</th>\n",
       "      <td>SHOTAPEN 1 ML</td>\n",
       "      <td>1</td>\n",
       "      <td>2021-11-22</td>\n",
       "    </tr>\n",
       "    <tr>\n",
       "      <th>16348</th>\n",
       "      <td>TERRAMYCINE LA 1ML</td>\n",
       "      <td>1</td>\n",
       "      <td>2021-11-22</td>\n",
       "    </tr>\n",
       "    <tr>\n",
       "      <th>16349</th>\n",
       "      <td>KETODOLOR 100MG 100 ML</td>\n",
       "      <td>1</td>\n",
       "      <td>2021-11-22</td>\n",
       "    </tr>\n",
       "    <tr>\n",
       "      <th>16350</th>\n",
       "      <td>EQUISOLON 300 MG POUDRE ORALEBOITE DE 10 SACHE...</td>\n",
       "      <td>1</td>\n",
       "      <td>2021-11-22</td>\n",
       "    </tr>\n",
       "  </tbody>\n",
       "</table>\n",
       "<p>16351 rows × 3 columns</p>\n",
       "</div>"
      ],
      "text/plain": [
       "                                                    Name  Quantity       Date\n",
       "0                                         ALUSPRAY BOMBE         1 2020-01-02\n",
       "1                                               VETRIGEN         1 2020-01-02\n",
       "2                                       BIOVEINE GLU CA+         4 2020-01-02\n",
       "3                                          BOVIFERM PLUS         1 2020-01-02\n",
       "4                                   CANDILAT VEAUX 20 ML         2 2020-01-02\n",
       "...                                                  ...       ...        ...\n",
       "16346                              DEXALONE SOLUTION 1ML         3 2021-11-22\n",
       "16347                                      SHOTAPEN 1 ML         1 2021-11-22\n",
       "16348                                 TERRAMYCINE LA 1ML         1 2021-11-22\n",
       "16349                             KETODOLOR 100MG 100 ML         1 2021-11-22\n",
       "16350  EQUISOLON 300 MG POUDRE ORALEBOITE DE 10 SACHE...         1 2021-11-22\n",
       "\n",
       "[16351 rows x 3 columns]"
      ]
     },
     "execution_count": 165,
     "metadata": {},
     "output_type": "execute_result"
    }
   ],
   "source": [
    "sales.columns = ['Name','Quantity','Date']\n",
    "sales"
   ]
  },
  {
   "cell_type": "code",
   "execution_count": 166,
   "metadata": {},
   "outputs": [],
   "source": [
    "products = sales.groupby('Name').sum('Quantity')\n",
    "top5_q = products.nlargest(6,'Quantity').drop('SHOTAPEN 1 ML')\n",
    "top5 = top5_q.index"
   ]
  },
  {
   "cell_type": "code",
   "execution_count": 167,
   "metadata": {},
   "outputs": [
    {
     "data": {
      "text/plain": [
       "Index(['TOLFINE INJ 250ML', 'SHOTAPEN', 'MASTIJET', 'OXYTETRIN SPRAY 220G',\n",
       "       'TENALINE LA'],\n",
       "      dtype='object', name='Name')"
      ]
     },
     "execution_count": 167,
     "metadata": {},
     "output_type": "execute_result"
    }
   ],
   "source": [
    "top5"
   ]
  },
  {
   "cell_type": "code",
   "execution_count": 168,
   "metadata": {},
   "outputs": [],
   "source": [
    "sales_top5 = sales[[sales['Name'][i] in top5 for i in sales.index]]"
   ]
  },
  {
   "cell_type": "code",
   "execution_count": 169,
   "metadata": {
    "scrolled": false
   },
   "outputs": [
    {
     "data": {
      "text/html": [
       "<div>\n",
       "<style scoped>\n",
       "    .dataframe tbody tr th:only-of-type {\n",
       "        vertical-align: middle;\n",
       "    }\n",
       "\n",
       "    .dataframe tbody tr th {\n",
       "        vertical-align: top;\n",
       "    }\n",
       "\n",
       "    .dataframe thead th {\n",
       "        text-align: right;\n",
       "    }\n",
       "</style>\n",
       "<table border=\"1\" class=\"dataframe\">\n",
       "  <thead>\n",
       "    <tr style=\"text-align: right;\">\n",
       "      <th></th>\n",
       "      <th>Name</th>\n",
       "      <th>Quantity</th>\n",
       "      <th>Date</th>\n",
       "    </tr>\n",
       "  </thead>\n",
       "  <tbody>\n",
       "    <tr>\n",
       "      <th>34</th>\n",
       "      <td>MASTIJET</td>\n",
       "      <td>11</td>\n",
       "      <td>2020-01-02</td>\n",
       "    </tr>\n",
       "    <tr>\n",
       "      <th>38</th>\n",
       "      <td>TOLFINE INJ 250ML</td>\n",
       "      <td>19</td>\n",
       "      <td>2020-01-02</td>\n",
       "    </tr>\n",
       "    <tr>\n",
       "      <th>47</th>\n",
       "      <td>SHOTAPEN</td>\n",
       "      <td>1</td>\n",
       "      <td>2020-01-02</td>\n",
       "    </tr>\n",
       "    <tr>\n",
       "      <th>48</th>\n",
       "      <td>SHOTAPEN</td>\n",
       "      <td>3</td>\n",
       "      <td>2020-01-02</td>\n",
       "    </tr>\n",
       "    <tr>\n",
       "      <th>53</th>\n",
       "      <td>TENALINE LA</td>\n",
       "      <td>2</td>\n",
       "      <td>2020-01-02</td>\n",
       "    </tr>\n",
       "    <tr>\n",
       "      <th>...</th>\n",
       "      <td>...</td>\n",
       "      <td>...</td>\n",
       "      <td>...</td>\n",
       "    </tr>\n",
       "    <tr>\n",
       "      <th>16170</th>\n",
       "      <td>OXYTETRIN SPRAY 220G</td>\n",
       "      <td>3</td>\n",
       "      <td>2021-11-15</td>\n",
       "    </tr>\n",
       "    <tr>\n",
       "      <th>16188</th>\n",
       "      <td>SHOTAPEN</td>\n",
       "      <td>1</td>\n",
       "      <td>2021-11-15</td>\n",
       "    </tr>\n",
       "    <tr>\n",
       "      <th>16254</th>\n",
       "      <td>SHOTAPEN</td>\n",
       "      <td>1</td>\n",
       "      <td>2021-11-16</td>\n",
       "    </tr>\n",
       "    <tr>\n",
       "      <th>16255</th>\n",
       "      <td>SHOTAPEN</td>\n",
       "      <td>1</td>\n",
       "      <td>2021-11-16</td>\n",
       "    </tr>\n",
       "    <tr>\n",
       "      <th>16271</th>\n",
       "      <td>TENALINE LA</td>\n",
       "      <td>2</td>\n",
       "      <td>2021-11-17</td>\n",
       "    </tr>\n",
       "  </tbody>\n",
       "</table>\n",
       "<p>477 rows × 3 columns</p>\n",
       "</div>"
      ],
      "text/plain": [
       "                       Name  Quantity       Date\n",
       "34                 MASTIJET        11 2020-01-02\n",
       "38        TOLFINE INJ 250ML        19 2020-01-02\n",
       "47                 SHOTAPEN         1 2020-01-02\n",
       "48                 SHOTAPEN         3 2020-01-02\n",
       "53              TENALINE LA         2 2020-01-02\n",
       "...                     ...       ...        ...\n",
       "16170  OXYTETRIN SPRAY 220G         3 2021-11-15\n",
       "16188              SHOTAPEN         1 2021-11-15\n",
       "16254              SHOTAPEN         1 2021-11-16\n",
       "16255              SHOTAPEN         1 2021-11-16\n",
       "16271           TENALINE LA         2 2021-11-17\n",
       "\n",
       "[477 rows x 3 columns]"
      ]
     },
     "execution_count": 169,
     "metadata": {},
     "output_type": "execute_result"
    }
   ],
   "source": [
    "sales_top5"
   ]
  },
  {
   "cell_type": "code",
   "execution_count": 170,
   "metadata": {
    "scrolled": false
   },
   "outputs": [
    {
     "name": "stderr",
     "output_type": "stream",
     "text": [
      "C:\\Users\\clara\\Anaconda3\\lib\\site-packages\\ipykernel_launcher.py:1: SettingWithCopyWarning: \n",
      "A value is trying to be set on a copy of a slice from a DataFrame.\n",
      "Try using .loc[row_indexer,col_indexer] = value instead\n",
      "\n",
      "See the caveats in the documentation: https://pandas.pydata.org/pandas-docs/stable/user_guide/indexing.html#returning-a-view-versus-a-copy\n",
      "  \"\"\"Entry point for launching an IPython kernel.\n"
     ]
    }
   ],
   "source": [
    "sales_top5['Month'] = [sales_top5['Date'][i].replace(day=1) for i in sales_top5.index]"
   ]
  },
  {
   "cell_type": "code",
   "execution_count": 171,
   "metadata": {},
   "outputs": [],
   "source": [
    "monthly = sales_top5.groupby(['Month','Name'],as_index=False).sum('Quantity')"
   ]
  },
  {
   "cell_type": "code",
   "execution_count": 172,
   "metadata": {},
   "outputs": [],
   "source": [
    "daily = sales_top5.groupby(['Date','Name'],as_index=False).sum(['Quantity'])"
   ]
  },
  {
   "cell_type": "code",
   "execution_count": 173,
   "metadata": {},
   "outputs": [
    {
     "data": {
      "text/html": [
       "<div>\n",
       "<style scoped>\n",
       "    .dataframe tbody tr th:only-of-type {\n",
       "        vertical-align: middle;\n",
       "    }\n",
       "\n",
       "    .dataframe tbody tr th {\n",
       "        vertical-align: top;\n",
       "    }\n",
       "\n",
       "    .dataframe thead th {\n",
       "        text-align: right;\n",
       "    }\n",
       "</style>\n",
       "<table border=\"1\" class=\"dataframe\">\n",
       "  <thead>\n",
       "    <tr style=\"text-align: right;\">\n",
       "      <th></th>\n",
       "      <th>Month</th>\n",
       "      <th>Name</th>\n",
       "      <th>Quantity</th>\n",
       "    </tr>\n",
       "  </thead>\n",
       "  <tbody>\n",
       "    <tr>\n",
       "      <th>0</th>\n",
       "      <td>2020-01-01</td>\n",
       "      <td>MASTIJET</td>\n",
       "      <td>17</td>\n",
       "    </tr>\n",
       "    <tr>\n",
       "      <th>1</th>\n",
       "      <td>2020-01-01</td>\n",
       "      <td>OXYTETRIN SPRAY 220G</td>\n",
       "      <td>7</td>\n",
       "    </tr>\n",
       "    <tr>\n",
       "      <th>2</th>\n",
       "      <td>2020-01-01</td>\n",
       "      <td>SHOTAPEN</td>\n",
       "      <td>15</td>\n",
       "    </tr>\n",
       "    <tr>\n",
       "      <th>3</th>\n",
       "      <td>2020-01-01</td>\n",
       "      <td>TENALINE LA</td>\n",
       "      <td>6</td>\n",
       "    </tr>\n",
       "    <tr>\n",
       "      <th>4</th>\n",
       "      <td>2020-01-01</td>\n",
       "      <td>TOLFINE INJ 250ML</td>\n",
       "      <td>26</td>\n",
       "    </tr>\n",
       "    <tr>\n",
       "      <th>...</th>\n",
       "      <td>...</td>\n",
       "      <td>...</td>\n",
       "      <td>...</td>\n",
       "    </tr>\n",
       "    <tr>\n",
       "      <th>110</th>\n",
       "      <td>2021-11-01</td>\n",
       "      <td>MASTIJET</td>\n",
       "      <td>4</td>\n",
       "    </tr>\n",
       "    <tr>\n",
       "      <th>111</th>\n",
       "      <td>2021-11-01</td>\n",
       "      <td>OXYTETRIN SPRAY 220G</td>\n",
       "      <td>4</td>\n",
       "    </tr>\n",
       "    <tr>\n",
       "      <th>112</th>\n",
       "      <td>2021-11-01</td>\n",
       "      <td>SHOTAPEN</td>\n",
       "      <td>4</td>\n",
       "    </tr>\n",
       "    <tr>\n",
       "      <th>113</th>\n",
       "      <td>2021-11-01</td>\n",
       "      <td>TENALINE LA</td>\n",
       "      <td>4</td>\n",
       "    </tr>\n",
       "    <tr>\n",
       "      <th>114</th>\n",
       "      <td>2021-11-01</td>\n",
       "      <td>TOLFINE INJ 250ML</td>\n",
       "      <td>9</td>\n",
       "    </tr>\n",
       "  </tbody>\n",
       "</table>\n",
       "<p>115 rows × 3 columns</p>\n",
       "</div>"
      ],
      "text/plain": [
       "         Month                  Name  Quantity\n",
       "0   2020-01-01              MASTIJET        17\n",
       "1   2020-01-01  OXYTETRIN SPRAY 220G         7\n",
       "2   2020-01-01              SHOTAPEN        15\n",
       "3   2020-01-01           TENALINE LA         6\n",
       "4   2020-01-01     TOLFINE INJ 250ML        26\n",
       "..         ...                   ...       ...\n",
       "110 2021-11-01              MASTIJET         4\n",
       "111 2021-11-01  OXYTETRIN SPRAY 220G         4\n",
       "112 2021-11-01              SHOTAPEN         4\n",
       "113 2021-11-01           TENALINE LA         4\n",
       "114 2021-11-01     TOLFINE INJ 250ML         9\n",
       "\n",
       "[115 rows x 3 columns]"
      ]
     },
     "execution_count": 173,
     "metadata": {},
     "output_type": "execute_result"
    }
   ],
   "source": [
    "monthly"
   ]
  },
  {
   "cell_type": "code",
   "execution_count": 174,
   "metadata": {},
   "outputs": [],
   "source": [
    "ticks = monthly['Month'].unique()\n",
    "labels = [pd.Timestamp(ticks[i]).month_name()[:3] + '20' if pd.Timestamp(ticks[i]).year == 2020 \n",
    "          else pd.Timestamp(ticks[i]).month_name()[:3] + '21' for i in range(len(ticks))]"
   ]
  },
  {
   "cell_type": "code",
   "execution_count": 175,
   "metadata": {},
   "outputs": [
    {
     "data": {
      "image/png": "[encoded data removed]",
      "text/plain": [
       "<Figure size 1296x2160 with 5 Axes>"
      ]
     },
     "metadata": {
      "needs_background": "light"
     },
     "output_type": "display_data"
    }
   ],
   "source": [
    "fig, axs = plt.subplots(5,1,figsize =(18,30))\n",
    "#plt.setp(axs, xticks=ticks,xticklabels=labels)\n",
    "for i in range(0,5):\n",
    "    sns.barplot(data=monthly[monthly['Name']==top5[i]],x='Month',y='Quantity',ax=axs[i])\n",
    "    axs[i].set_title(top5[i])\n",
    "    #axs[i].set_xticks(ticks)\n",
    "    axs[i].set_xticklabels(labels)"
   ]
  },
  {
   "cell_type": "code",
   "execution_count": null,
   "metadata": {},
   "outputs": [],
   "source": []
  }
 ],
 "metadata": {
  "kernelspec": {
   "display_name": "Python 3",
   "language": "python",
   "name": "python3"
  },
  "language_info": {
   "codemirror_mode": {
    "name": "ipython",
    "version": 3
   },
   "file_extension": ".py",
   "mimetype": "text/x-python",
   "name": "python",
   "nbconvert_exporter": "python",
   "pygments_lexer": "ipython3",
   "version": "3.7.3"
  }
 },
 "nbformat": 4,
 "nbformat_minor": 4
}
