{
 "cells": [
  {
   "cell_type": "code",
   "execution_count": 1,
   "metadata": {},
   "outputs": [],
   "source": [
    "import pandas as pd\n",
    "import numpy as np\n",
    "\n",
    "filename_v = 'Hit-Parade-Vicherey.csv'\n",
    "filename_c = 'Hit-Parade-Colombey.csv'\n",
    "vicherey=pd.read_csv(filename_v,sep=\";\")\n",
    "colombey = pd.read_csv(filename_c,sep=\";\")"
   ]
  },
  {
   "cell_type": "code",
   "execution_count": 2,
   "metadata": {},
   "outputs": [],
   "source": [
    "colnames = ['Name','Code','GTIN','CIP','EAN','Supplier','2019','2020','2021']\n",
    "vicherey.columns = colnames\n",
    "colombey.columns = colnames\n"
   ]
  },
  {
   "cell_type": "code",
   "execution_count": 3,
   "metadata": {},
   "outputs": [
    {
     "data": {
      "text/html": [
       "<div>\n",
       "<style scoped>\n",
       "    .dataframe tbody tr th:only-of-type {\n",
       "        vertical-align: middle;\n",
       "    }\n",
       "\n",
       "    .dataframe tbody tr th {\n",
       "        vertical-align: top;\n",
       "    }\n",
       "\n",
       "    .dataframe thead th {\n",
       "        text-align: right;\n",
       "    }\n",
       "</style>\n",
       "<table border=\"1\" class=\"dataframe\">\n",
       "  <thead>\n",
       "    <tr style=\"text-align: right;\">\n",
       "      <th></th>\n",
       "      <th>Name</th>\n",
       "      <th>Code</th>\n",
       "      <th>GTIN</th>\n",
       "      <th>CIP</th>\n",
       "      <th>EAN</th>\n",
       "      <th>Supplier</th>\n",
       "      <th>2019</th>\n",
       "      <th>2020</th>\n",
       "      <th>2021</th>\n",
       "    </tr>\n",
       "  </thead>\n",
       "  <tbody>\n",
       "    <tr>\n",
       "      <th>0</th>\n",
       "      <td>Purevax RCP FeLV 0.5 ml 50x1 D</td>\n",
       "      <td>PUR017</td>\n",
       "      <td>4,03E+12</td>\n",
       "      <td>9053021.0</td>\n",
       "      <td>9053021</td>\n",
       "      <td>BOEHRINGER ING. ANIMAL HEALTH</td>\n",
       "      <td>0</td>\n",
       "      <td>0</td>\n",
       "      <td>9995</td>\n",
       "    </tr>\n",
       "    <tr>\n",
       "      <th>1</th>\n",
       "      <td>Bravecto Chien 20-40kg 2 cps</td>\n",
       "      <td>BRA040</td>\n",
       "      <td>8,71E+12</td>\n",
       "      <td>8958079.0</td>\n",
       "      <td>8958079</td>\n",
       "      <td>MSD SANTE ANIMALE</td>\n",
       "      <td>0</td>\n",
       "      <td>5147</td>\n",
       "      <td>6713</td>\n",
       "    </tr>\n",
       "    <tr>\n",
       "      <th>2</th>\n",
       "      <td>Sedator 10 ml</td>\n",
       "      <td>SED007</td>\n",
       "      <td>8,71E+12</td>\n",
       "      <td>6745741.0</td>\n",
       "      <td>6745741</td>\n",
       "      <td>DECHRA FRANCE</td>\n",
       "      <td>0</td>\n",
       "      <td>2556</td>\n",
       "      <td>3566</td>\n",
       "    </tr>\n",
       "    <tr>\n",
       "      <th>3</th>\n",
       "      <td>Credelio Chat 48 mg 6 comprimés</td>\n",
       "      <td>CRE016</td>\n",
       "      <td>5,42E+12</td>\n",
       "      <td>9013381.0</td>\n",
       "      <td>9013381</td>\n",
       "      <td>ELANCO AH</td>\n",
       "      <td>0</td>\n",
       "      <td>1576</td>\n",
       "      <td>2783</td>\n",
       "    </tr>\n",
       "    <tr>\n",
       "      <th>4</th>\n",
       "      <td>Bravecto Chien 10-20kg 2 cps</td>\n",
       "      <td>BRA039</td>\n",
       "      <td>8,71E+12</td>\n",
       "      <td>8958062.0</td>\n",
       "      <td>8958062</td>\n",
       "      <td>MSD SANTE ANIMALE</td>\n",
       "      <td>0</td>\n",
       "      <td>2959</td>\n",
       "      <td>2638</td>\n",
       "    </tr>\n",
       "  </tbody>\n",
       "</table>\n",
       "</div>"
      ],
      "text/plain": [
       "                              Name    Code      GTIN        CIP      EAN  \\\n",
       "0   Purevax RCP FeLV 0.5 ml 50x1 D  PUR017  4,03E+12  9053021.0  9053021   \n",
       "1     Bravecto Chien 20-40kg 2 cps  BRA040  8,71E+12  8958079.0  8958079   \n",
       "2                    Sedator 10 ml  SED007  8,71E+12  6745741.0  6745741   \n",
       "3  Credelio Chat 48 mg 6 comprimés  CRE016  5,42E+12  9013381.0  9013381   \n",
       "4     Bravecto Chien 10-20kg 2 cps  BRA039  8,71E+12  8958062.0  8958062   \n",
       "\n",
       "                        Supplier  2019  2020  2021  \n",
       "0  BOEHRINGER ING. ANIMAL HEALTH     0     0  9995  \n",
       "1              MSD SANTE ANIMALE     0  5147  6713  \n",
       "2                  DECHRA FRANCE     0  2556  3566  \n",
       "3                      ELANCO AH     0  1576  2783  \n",
       "4              MSD SANTE ANIMALE     0  2959  2638  "
      ]
     },
     "execution_count": 3,
     "metadata": {},
     "output_type": "execute_result"
    }
   ],
   "source": [
    "colombey.head()"
   ]
  },
  {
   "cell_type": "code",
   "execution_count": 26,
   "metadata": {},
   "outputs": [
    {
     "data": {
      "text/html": [
       "<div>\n",
       "<style scoped>\n",
       "    .dataframe tbody tr th:only-of-type {\n",
       "        vertical-align: middle;\n",
       "    }\n",
       "\n",
       "    .dataframe tbody tr th {\n",
       "        vertical-align: top;\n",
       "    }\n",
       "\n",
       "    .dataframe thead th {\n",
       "        text-align: right;\n",
       "    }\n",
       "</style>\n",
       "<table border=\"1\" class=\"dataframe\">\n",
       "  <thead>\n",
       "    <tr style=\"text-align: right;\">\n",
       "      <th></th>\n",
       "      <th>Name</th>\n",
       "      <th>Code</th>\n",
       "      <th>GTIN</th>\n",
       "      <th>CIP</th>\n",
       "      <th>EAN</th>\n",
       "      <th>Supplier</th>\n",
       "      <th>2019</th>\n",
       "      <th>2020</th>\n",
       "      <th>2021</th>\n",
       "    </tr>\n",
       "  </thead>\n",
       "  <tbody>\n",
       "    <tr>\n",
       "      <th>0</th>\n",
       "      <td>Tolfine Sol. Inj. 250 ml</td>\n",
       "      <td>TOL008</td>\n",
       "      <td>3,60587E+12</td>\n",
       "      <td>6874303.0</td>\n",
       "      <td>6874303</td>\n",
       "      <td>VETOQUINOL</td>\n",
       "      <td>0</td>\n",
       "      <td>31489</td>\n",
       "      <td>25074</td>\n",
       "    </tr>\n",
       "    <tr>\n",
       "      <th>1</th>\n",
       "      <td>Equilis Prequenza Te 10x1 D</td>\n",
       "      <td>EQU083</td>\n",
       "      <td>8,71318E+12</td>\n",
       "      <td>6794194.0</td>\n",
       "      <td>6794194</td>\n",
       "      <td>MSD SANTE ANIMALE</td>\n",
       "      <td>0</td>\n",
       "      <td>0</td>\n",
       "      <td>12487</td>\n",
       "    </tr>\n",
       "    <tr>\n",
       "      <th>2</th>\n",
       "      <td>Mastijet 20 Appl.+ Serv.</td>\n",
       "      <td>MAS003</td>\n",
       "      <td>8,71318E+12</td>\n",
       "      <td>6725767.0</td>\n",
       "      <td>6725767</td>\n",
       "      <td>MSD SANTE ANIMALE</td>\n",
       "      <td>0</td>\n",
       "      <td>9465</td>\n",
       "      <td>9282</td>\n",
       "    </tr>\n",
       "    <tr>\n",
       "      <th>3</th>\n",
       "      <td>Equip Ehv 1.4 10x1 D</td>\n",
       "      <td>EQU135</td>\n",
       "      <td>8,71402E+12</td>\n",
       "      <td>8920237.0</td>\n",
       "      <td>8920237</td>\n",
       "      <td>ZOETIS</td>\n",
       "      <td>0</td>\n",
       "      <td>5184</td>\n",
       "      <td>7080</td>\n",
       "    </tr>\n",
       "    <tr>\n",
       "      <th>4</th>\n",
       "      <td>Shotapen 250 ml</td>\n",
       "      <td>SHO003</td>\n",
       "      <td>3,59713E+12</td>\n",
       "      <td>6706008.0</td>\n",
       "      <td>6706008</td>\n",
       "      <td>VIRBAC FRANCE</td>\n",
       "      <td>0</td>\n",
       "      <td>5604</td>\n",
       "      <td>6889</td>\n",
       "    </tr>\n",
       "  </tbody>\n",
       "</table>\n",
       "</div>"
      ],
      "text/plain": [
       "                          Name    Code         GTIN        CIP      EAN  \\\n",
       "0     Tolfine Sol. Inj. 250 ml  TOL008  3,60587E+12  6874303.0  6874303   \n",
       "1  Equilis Prequenza Te 10x1 D  EQU083  8,71318E+12  6794194.0  6794194   \n",
       "2     Mastijet 20 Appl.+ Serv.  MAS003  8,71318E+12  6725767.0  6725767   \n",
       "3         Equip Ehv 1.4 10x1 D  EQU135  8,71402E+12  8920237.0  8920237   \n",
       "4              Shotapen 250 ml  SHO003  3,59713E+12  6706008.0  6706008   \n",
       "\n",
       "            Supplier  2019   2020   2021  \n",
       "0         VETOQUINOL     0  31489  25074  \n",
       "1  MSD SANTE ANIMALE     0      0  12487  \n",
       "2  MSD SANTE ANIMALE     0   9465   9282  \n",
       "3             ZOETIS     0   5184   7080  \n",
       "4      VIRBAC FRANCE     0   5604   6889  "
      ]
     },
     "execution_count": 26,
     "metadata": {},
     "output_type": "execute_result"
    }
   ],
   "source": [
    "vicherey.head()"
   ]
  },
  {
   "cell_type": "code",
   "execution_count": 64,
   "metadata": {},
   "outputs": [],
   "source": [
    "intersection = pd.merge(vicherey,colombey,how='inner',on =['Code'])[['Code','Name_x','2021_x','2021_y']]"
   ]
  },
  {
   "cell_type": "code",
   "execution_count": 69,
   "metadata": {},
   "outputs": [],
   "source": [
    "intersection = intersection.drop(5,axis = 0)"
   ]
  },
  {
   "cell_type": "markdown",
   "metadata": {},
   "source": [
    "5 meds in common between the 2 clinics"
   ]
  },
  {
   "cell_type": "code",
   "execution_count": 70,
   "metadata": {},
   "outputs": [],
   "source": [
    "classement_v = []\n",
    "classement_c = []\n",
    "for i in range(0,5):\n",
    "    classement_v.append(vicherey[vicherey['Code']==intersection.loc[i]['Code']].index[0])\n",
    "    classement_c.append(colombey[colombey['Code']==intersection.loc[i]['Code']].index[0])"
   ]
  },
  {
   "cell_type": "code",
   "execution_count": 61,
   "metadata": {},
   "outputs": [
    {
     "data": {
      "text/plain": [
       "[20, 45, 46, 50, 60]"
      ]
     },
     "execution_count": 61,
     "metadata": {},
     "output_type": "execute_result"
    }
   ],
   "source": [
    "classement_v"
   ]
  },
  {
   "cell_type": "code",
   "execution_count": 63,
   "metadata": {},
   "outputs": [
    {
     "data": {
      "text/plain": [
       "[93, 48, 1, 88, 24]"
      ]
     },
     "execution_count": 63,
     "metadata": {},
     "output_type": "execute_result"
    }
   ],
   "source": [
    "classement_c"
   ]
  },
  {
   "cell_type": "code",
   "execution_count": 71,
   "metadata": {},
   "outputs": [],
   "source": [
    "intersection['Colombey rank'] = classement_c\n",
    "intersection['Vicherey rank'] = classement_v"
   ]
  },
  {
   "cell_type": "code",
   "execution_count": 72,
   "metadata": {},
   "outputs": [
    {
     "data": {
      "text/html": [
       "<div>\n",
       "<style scoped>\n",
       "    .dataframe tbody tr th:only-of-type {\n",
       "        vertical-align: middle;\n",
       "    }\n",
       "\n",
       "    .dataframe tbody tr th {\n",
       "        vertical-align: top;\n",
       "    }\n",
       "\n",
       "    .dataframe thead th {\n",
       "        text-align: right;\n",
       "    }\n",
       "</style>\n",
       "<table border=\"1\" class=\"dataframe\">\n",
       "  <thead>\n",
       "    <tr style=\"text-align: right;\">\n",
       "      <th></th>\n",
       "      <th>Code</th>\n",
       "      <th>Name_x</th>\n",
       "      <th>2021_x</th>\n",
       "      <th>2021_y</th>\n",
       "      <th>Colombey rank</th>\n",
       "      <th>Vicherey rank</th>\n",
       "    </tr>\n",
       "  </thead>\n",
       "  <tbody>\n",
       "    <tr>\n",
       "      <th>0</th>\n",
       "      <td>RIS018</td>\n",
       "      <td>Rispoval intranasal RS-PI3 5 D</td>\n",
       "      <td>4521</td>\n",
       "      <td>440</td>\n",
       "      <td>93</td>\n",
       "      <td>20</td>\n",
       "    </tr>\n",
       "    <tr>\n",
       "      <th>1</th>\n",
       "      <td>STR006</td>\n",
       "      <td>Strongid Chevaux 26 g</td>\n",
       "      <td>2384</td>\n",
       "      <td>713</td>\n",
       "      <td>48</td>\n",
       "      <td>45</td>\n",
       "    </tr>\n",
       "    <tr>\n",
       "      <th>2</th>\n",
       "      <td>BRA040</td>\n",
       "      <td>Bravecto Chien 20-40kg 2 cps</td>\n",
       "      <td>2331</td>\n",
       "      <td>6713</td>\n",
       "      <td>1</td>\n",
       "      <td>46</td>\n",
       "    </tr>\n",
       "    <tr>\n",
       "      <th>3</th>\n",
       "      <td>SYN024</td>\n",
       "      <td>Synulox Intramammaire 24 Appl.</td>\n",
       "      <td>2140</td>\n",
       "      <td>454</td>\n",
       "      <td>88</td>\n",
       "      <td>50</td>\n",
       "    </tr>\n",
       "    <tr>\n",
       "      <th>4</th>\n",
       "      <td>PUR014</td>\n",
       "      <td>Purevax FeLV 0.5 ml 50x1 D</td>\n",
       "      <td>1831</td>\n",
       "      <td>1215</td>\n",
       "      <td>24</td>\n",
       "      <td>60</td>\n",
       "    </tr>\n",
       "  </tbody>\n",
       "</table>\n",
       "</div>"
      ],
      "text/plain": [
       "     Code                          Name_x  2021_x  2021_y  Colombey rank  \\\n",
       "0  RIS018  Rispoval intranasal RS-PI3 5 D    4521     440             93   \n",
       "1  STR006           Strongid Chevaux 26 g    2384     713             48   \n",
       "2  BRA040    Bravecto Chien 20-40kg 2 cps    2331    6713              1   \n",
       "3  SYN024  Synulox Intramammaire 24 Appl.    2140     454             88   \n",
       "4  PUR014      Purevax FeLV 0.5 ml 50x1 D    1831    1215             24   \n",
       "\n",
       "   Vicherey rank  \n",
       "0             20  \n",
       "1             45  \n",
       "2             46  \n",
       "3             50  \n",
       "4             60  "
      ]
     },
     "execution_count": 72,
     "metadata": {},
     "output_type": "execute_result"
    }
   ],
   "source": [
    "intersection"
   ]
  },
  {
   "cell_type": "markdown",
   "metadata": {},
   "source": [
    "Conclusion : low interest to set up a central inventory since only 5 products are commom in the top 100 products ordered in the two clinics (by total cost)."
   ]
  },
  {
   "cell_type": "code",
   "execution_count": null,
   "metadata": {},
   "outputs": [],
   "source": []
  }
 ],
 "metadata": {
  "kernelspec": {
   "display_name": "Python 3",
   "language": "python",
   "name": "python3"
  },
  "language_info": {
   "codemirror_mode": {
    "name": "ipython",
    "version": 3
   },
   "file_extension": ".py",
   "mimetype": "text/x-python",
   "name": "python",
   "nbconvert_exporter": "python",
   "pygments_lexer": "ipython3",
   "version": "3.7.3"
  }
 },
 "nbformat": 4,
 "nbformat_minor": 4
}
